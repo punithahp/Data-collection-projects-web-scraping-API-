{
 "cells": [
  {
   "cell_type": "code",
   "execution_count": 1,
   "id": "784f9367-3c42-460d-b4ce-2f512dc51fbd",
   "metadata": {},
   "outputs": [
    {
     "name": "stdout",
     "output_type": "stream",
     "text": [
      "   Language_name      Annual_avg_salary\n",
      "0       Language  Average Annual Salary\n",
      "1         Python               $114,383\n",
      "2           Java               $101,013\n",
      "3              R                $92,037\n",
      "4     Javascript               $110,981\n",
      "5          Swift               $130,801\n",
      "6            C++               $113,865\n",
      "7             C#                $88,726\n",
      "8            PHP                $84,727\n",
      "9            SQL                $84,793\n",
      "10            Go                $94,082\n",
      "data loaded to popular-languages.csv successfully\n"
     ]
    }
   ],
   "source": [
    "from bs4 import BeautifulSoup # this module helps in web scrapping.\n",
    "import requests  # this module helps us to download a webpage\n",
    "import pandas as pd\n",
    "\n",
    "url = \"https://cf-courses-data.s3.us.cloud-object-storage.appdomain.cloud/IBM-DA0321EN-SkillsNetwork/labs/datasets/Programming_Languages.html\"\n",
    "data = requests.get(url).text\n",
    "\n",
    "soup = BeautifulSoup(data,\"html.parser\")  # create a soup object using the variable 'data'\n",
    "\n",
    "table = soup.find('table')\n",
    "\n",
    "df = pd.DataFrame(columns = [\"Language_name\",\"Annual_avg_salary\"])\n",
    "csv_file_path = 'popular-languages.csv'\n",
    "\n",
    "for row in table.find_all('tr'):\n",
    "    cols = row.find_all('td')\n",
    "    Language_name = cols[1].getText()\n",
    "    Annual_avg_salary = cols[3].getText()\n",
    "    data_dictionary = {\"Language_name\":Language_name, \"Annual_avg_salary\":Annual_avg_salary}\n",
    "    df1 = pd.DataFrame(data_dictionary, index = [0])\n",
    "    df = pd.concat([df,df1], ignore_index=True)\n",
    "\n",
    "print(df)\n",
    "df.to_csv(csv_file_path)\n",
    "\n",
    "print(f\"data loaded to {csv_file_path} successfully\")"
   ]
  },
  {
   "cell_type": "code",
   "execution_count": null,
   "id": "1a7f8c1f-c243-4fd2-98aa-6637a5c090e8",
   "metadata": {},
   "outputs": [],
   "source": []
  }
 ],
 "metadata": {
  "kernelspec": {
   "display_name": "Python 3 (ipykernel)",
   "language": "python",
   "name": "python3"
  },
  "language_info": {
   "codemirror_mode": {
    "name": "ipython",
    "version": 3
   },
   "file_extension": ".py",
   "mimetype": "text/x-python",
   "name": "python",
   "nbconvert_exporter": "python",
   "pygments_lexer": "ipython3",
   "version": "3.11.7"
  }
 },
 "nbformat": 4,
 "nbformat_minor": 5
}
